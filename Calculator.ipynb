{
  "nbformat": 4,
  "nbformat_minor": 0,
  "metadata": {
    "colab": {
      "private_outputs": true,
      "provenance": [],
      "authorship_tag": "ABX9TyMumq7fcsiMdQFFQCTPIf9p",
      "include_colab_link": true
    },
    "kernelspec": {
      "name": "python3",
      "display_name": "Python 3"
    },
    "language_info": {
      "name": "python"
    }
  },
  "cells": [
    {
      "cell_type": "markdown",
      "metadata": {
        "id": "view-in-github",
        "colab_type": "text"
      },
      "source": [
        "<a href=\"https://colab.research.google.com/github/Prashant28042005/codsofft/blob/main/Calculator.ipynb\" target=\"_parent\"><img src=\"https://colab.research.google.com/assets/colab-badge.svg\" alt=\"Open In Colab\"/></a>"
      ]
    },
    {
      "cell_type": "markdown",
      "source": [
        "# Task 2\n",
        "Name : Prashant Yadav  \n",
        "Domain : Python"
      ],
      "metadata": {
        "id": "Cajr9GDWQBnc"
      }
    },
    {
      "cell_type": "markdown",
      "source": [
        "- Design a simple calculator with basic arithmetic operations.\n",
        "Prompt the user to input two numbers and an operation choice.\n",
        "\n",
        "- Perform the calculation and display the result."
      ],
      "metadata": {
        "id": "zewZUjBzQZBt"
      }
    },
    {
      "cell_type": "code",
      "source": [
        "operator = input(\"Enter any operation from (+ - * /) : \")\n",
        "num1 = float(input(\"Enter First number : \"))\n",
        "num2 = float(input(\"Enter Second number : \"))\n",
        "\n",
        "if operator == \"+\":\n",
        "    result = num1 + num2\n",
        "    print(\"The addition of the two numbers is:\", result)\n",
        "\n",
        "elif operator == \"-\":\n",
        "    result = num1 - num2\n",
        "    print(\"The subtraction of the two numbers is:\", result)\n",
        "\n",
        "elif operator == \"*\":\n",
        "    result = num1 * num2\n",
        "    print(\"The multiplication of the two numbers is:\", result)\n",
        "\n",
        "elif operator == \"/\":\n",
        "    if num2 != 0:\n",
        "        result = num1 / num2\n",
        "        print(\"The division of the first number by the second number is:\", result)\n",
        "    else:\n",
        "        print(\"Error: Division by zero is not allowed.\")\n",
        "\n",
        "else:\n",
        "    print(f\"'{operator}' is an invalid operator.\")\n"
      ],
      "metadata": {
        "id": "W_h6wCuRP47l"
      },
      "execution_count": null,
      "outputs": []
    }
  ]
}